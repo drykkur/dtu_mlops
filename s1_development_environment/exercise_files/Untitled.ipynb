{
 "cells": [
  {
   "cell_type": "code",
   "execution_count": 3,
   "id": "025d6587",
   "metadata": {},
   "outputs": [
    {
     "data": {
      "text/plain": [
       "<matplotlib.image.AxesImage at 0x286bb6fafd0>"
      ]
     },
     "execution_count": 3,
     "metadata": {},
     "output_type": "execute_result"
    },
    {
     "data": {
      "image/png": "[encoded data removed]",
      "text/plain": [
       "<Figure size 432x288 with 1 Axes>"
      ]
     },
     "metadata": {
      "needs_background": "light"
     },
     "output_type": "display_data"
    }
   ],
   "source": [
    "import numpy as np\n",
    "import matplotlib.pyplot as plt\n",
    "bla = np.load('C:/Users/penna/Documents/dtu_mlops/data/corruptmnist/train_1.npz')\n",
    "plt.imshow(bla['images'][20], cmap='Greys_r')"
   ]
  },
  {
   "cell_type": "code",
   "execution_count": 21,
   "id": "11485574",
   "metadata": {},
   "outputs": [],
   "source": [
    "tr0 = np.load('C:/Users/penna/Documents/dtu_mlops/data/corruptmnist/train_0.npz')\n",
    "tr1 = np.load('C:/Users/penna/Documents/dtu_mlops/data/corruptmnist/train_1.npz')\n",
    "tr2 = np.load('C:/Users/penna/Documents/dtu_mlops/data/corruptmnist/train_2.npz')\n",
    "tr3 = np.load('C:/Users/penna/Documents/dtu_mlops/data/corruptmnist/train_3.npz')\n",
    "tr4 = np.load('C:/Users/penna/Documents/dtu_mlops/data/corruptmnist/train_4.npz')\n",
    "images = np.concatenate((tr0['images'],tr1['images'],tr2['images'],tr3['images'],tr4['images']))\n",
    "labels = np.concatenate((tr0['labels'],tr1['labels'],tr2['labels'],tr3['labels'],tr4['labels']))"
   ]
  },
  {
   "cell_type": "code",
   "execution_count": 24,
   "id": "b6282537",
   "metadata": {},
   "outputs": [],
   "source": [
    "zz = images,labels"
   ]
  },
  {
   "cell_type": "code",
   "execution_count": 28,
   "id": "f723f035",
   "metadata": {},
   "outputs": [
    {
     "data": {
      "text/plain": [
       "25000"
      ]
     },
     "execution_count": 28,
     "metadata": {},
     "output_type": "execute_result"
    }
   ],
   "source": [
    "zz[0].shape[0]"
   ]
  }
 ],
 "metadata": {
  "kernelspec": {
   "display_name": "base",
   "language": "python",
   "name": "python3"
  },
  "language_info": {
   "codemirror_mode": {
    "name": "ipython",
    "version": 3
   },
   "file_extension": ".py",
   "mimetype": "text/x-python",
   "name": "python",
   "nbconvert_exporter": "python",
   "pygments_lexer": "ipython3",
   "version": "3.9.12"
  },
  "vscode": {
   "interpreter": {
    "hash": "4ab9ff3411d21e36124feaf8be24ac2ff5f49c7d32cde3aee451b35bbabdc926"
   }
  }
 },
 "nbformat": 4,
 "nbformat_minor": 5
}
